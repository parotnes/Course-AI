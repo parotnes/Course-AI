{
  "nbformat": 4,
  "nbformat_minor": 0,
  "metadata": {
    "colab": {
      "provenance": [],
      "authorship_tag": "ABX9TyNXrI0wZxYE0poXPn0ox8Jx",
      "include_colab_link": true
    },
    "kernelspec": {
      "name": "python3",
      "display_name": "Python 3"
    },
    "language_info": {
      "name": "python"
    }
  },
  "cells": [
    {
      "cell_type": "markdown",
      "metadata": {
        "id": "view-in-github",
        "colab_type": "text"
      },
      "source": [
        "<a href=\"https://colab.research.google.com/github/parotnes/Course-AI/blob/main/Untitled2.ipynb\" target=\"_parent\"><img src=\"https://colab.research.google.com/assets/colab-badge.svg\" alt=\"Open In Colab\"/></a>"
      ]
    },
    {
      "cell_type": "code",
      "source": [
        "from google.colab import drive\n",
        "import os\n",
        "import random\n",
        "import cv2\n",
        "import numpy as np\n",
        "from tensorflow.keras.models import Sequential\n",
        "from tensorflow.keras.layers import Flatten, Dense\n",
        "from tensorflow.keras.utils import to_categorical\n",
        "from sklearn.model_selection import train_test_split\n",
        "\n",
        "# Mount Google Drive\n",
        "drive.mount('/content/drive')\n",
        "\n",
        "# Set the path to your dataset\n",
        "data_path = \"/content/drive/My Drive/new_images/processed_images\"\n",
        "\n",
        "# Function to load images and labels from the dataset\n",
        "def load_data(data_path):\n",
        "    images = []\n",
        "    labels = []\n",
        "\n",
        "    for folder in os.listdir(data_path):\n",
        "        folder_path = os.path.join(data_path, folder)\n",
        "        for filename in os.listdir(folder_path):\n",
        "            img_path = os.path.join(folder_path, filename)\n",
        "            image = cv2.imread(img_path, cv2.IMREAD_GRAYSCALE)  # Read images as grayscale\n",
        "            image = cv2.resize(image, (28, 28))  # Resize images to 28x28\n",
        "            images.append(image)\n",
        "            labels.append(1 if folder == \"drone\" else 0)  # 1 for drone, 0 for no_drone\n",
        "\n",
        "    return np.array(images), np.array(labels)\n",
        "\n",
        "# Load the data\n",
        "images, labels = load_data(data_path)\n",
        "\n",
        "# Split the data into train and test sets\n",
        "X_train, X_test, y_train, y_test = train_test_split(images, labels, test_size=0.3, random_state=42)\n",
        "\n",
        "# Normalize pixel values to be between 0 and 1\n",
        "X_train = X_train / 255.0\n",
        "X_test = X_test / 255.0\n",
        "\n",
        "# Build the model\n",
        "model = Sequential()\n",
        "model.add(Flatten(input_shape=(28, 28)))  # Flatten the 28x28 images\n",
        "model.add(Dense(128, activation='relu'))\n",
        "model.add(Dense(2, activation='softmax'))\n",
        "\n",
        "# Compile the model\n",
        "model.compile(optimizer='adam', loss='sparse_categorical_crossentropy', metrics=['accuracy'])\n",
        "\n",
        "# Train the model\n",
        "model.fit(X_train, y_train, epochs=10, validation_split=0.1)\n",
        "\n",
        "# Evaluate the model on the test set\n",
        "test_loss, test_acc = model.evaluate(X_test, y_test)\n",
        "print(f'Test accuracy: {test_acc}')\n",
        "\n",
        "# Make predictions on a new data point\n",
        "new_data_point = X_test[0].reshape(1, 28, 28)  # Reshape to match the input shape\n",
        "prediction = model.predict(new_data_point)\n",
        "predicted_class = np.argmax(prediction)\n",
        "\n",
        "print(f'The predicted class is: {predicted_class}')\n"
      ],
      "metadata": {
        "colab": {
          "base_uri": "https://localhost:8080/"
        },
        "id": "Vjka12qGBIUM",
        "outputId": "9a65f39f-ded6-4693-fb1e-104884aa76f9"
      },
      "execution_count": 1,
      "outputs": [
        {
          "output_type": "stream",
          "name": "stdout",
          "text": [
            "Mounted at /content/drive\n",
            "Epoch 1/10\n",
            "93/93 [==============================] - 1s 8ms/step - loss: 0.5779 - accuracy: 0.7226 - val_loss: 0.4927 - val_accuracy: 0.8273\n",
            "Epoch 2/10\n",
            "93/93 [==============================] - 0s 5ms/step - loss: 0.4405 - accuracy: 0.8483 - val_loss: 0.4612 - val_accuracy: 0.8545\n",
            "Epoch 3/10\n",
            "93/93 [==============================] - 1s 6ms/step - loss: 0.4259 - accuracy: 0.8325 - val_loss: 0.4436 - val_accuracy: 0.8424\n",
            "Epoch 4/10\n",
            "93/93 [==============================] - 0s 4ms/step - loss: 0.4030 - accuracy: 0.8524 - val_loss: 0.4378 - val_accuracy: 0.8485\n",
            "Epoch 5/10\n",
            "93/93 [==============================] - 0s 5ms/step - loss: 0.3804 - accuracy: 0.8622 - val_loss: 0.4104 - val_accuracy: 0.8515\n",
            "Epoch 6/10\n",
            "93/93 [==============================] - 0s 4ms/step - loss: 0.3558 - accuracy: 0.8723 - val_loss: 0.4672 - val_accuracy: 0.8152\n",
            "Epoch 7/10\n",
            "93/93 [==============================] - 0s 5ms/step - loss: 0.3778 - accuracy: 0.8440 - val_loss: 0.4454 - val_accuracy: 0.8879\n",
            "Epoch 8/10\n",
            "93/93 [==============================] - 1s 6ms/step - loss: 0.3553 - accuracy: 0.8615 - val_loss: 0.4565 - val_accuracy: 0.8545\n",
            "Epoch 9/10\n",
            "93/93 [==============================] - 1s 7ms/step - loss: 0.3074 - accuracy: 0.8908 - val_loss: 0.3700 - val_accuracy: 0.8485\n",
            "Epoch 10/10\n",
            "93/93 [==============================] - 1s 8ms/step - loss: 0.2852 - accuracy: 0.9006 - val_loss: 0.3876 - val_accuracy: 0.8303\n",
            "45/45 [==============================] - 0s 2ms/step - loss: 0.3390 - accuracy: 0.8571\n",
            "Test accuracy: 0.8571428656578064\n",
            "1/1 [==============================] - 0s 95ms/step\n",
            "The predicted class is: 1\n"
          ]
        }
      ]
    }
  ]
}